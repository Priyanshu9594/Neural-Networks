{
  "nbformat": 4,
  "nbformat_minor": 0,
  "metadata": {
    "colab": {
      "name": "NeuralNetwork.ipynb",
      "provenance": [],
      "collapsed_sections": [],
      "toc_visible": true
    },
    "kernelspec": {
      "name": "python3",
      "display_name": "Python 3"
    },
    "language_info": {
      "name": "python"
    }
  },
  "cells": [
    {
      "cell_type": "markdown",
      "metadata": {
        "id": "azmQcnPcKdpr"
      },
      "source": [
        "##The dataset contains 36733 instances of 11 sensor measures aggregated over one hour (by means of average or sum) from a gas turbine. \n",
        "The Dataset includes gas turbine parameters (such as Turbine Inlet Temperature and Compressor Discharge pressure) in addition to the ambient variables.\n",
        "\n",
        "\n",
        "\n",
        "####Problem statement: predicting turbine energy yield (TEY) using ambient variables as features.\n",
        "\n",
        "\n",
        "\n",
        "####Attribute Information:\n",
        "\n",
        "#####The explanations of sensor measurements and their brief statistics are given below.\n",
        "\n",
        "#####Variable (Abbr.) Unit Min Max Mean\n",
        "#####Ambient temperature (AT) C â€“6.23 37.10 17.71\n",
        "#####Ambient pressure (AP) mbar 985.85 1036.56 1013.07\n",
        "#####Ambient humidity (AH) (%) 24.08 100.20 77.87\n",
        "#####Air filter difference pressure (AFDP) mbar 2.09 7.61 3.93\n",
        "#####Gas turbine exhaust pressure (GTEP) mbar 17.70 40.72 25.56\n",
        "#####Turbine inlet temperature (TIT) C 1000.85 1100.89 1081.43\n",
        "#####Turbine after temperature (TAT) C 511.04 550.61 546.16\n",
        "#####Compressor discharge pressure (CDP) mbar 9.85 15.16 12.06\n",
        "#####Turbine energy yield (TEY) MWH 100.02 179.50 133.51\n",
        "#####Carbon monoxide (CO) mg/m3 0.00 44.10 2.37\n",
        "#####Nitrogen oxides (NOx) mg/m3 25.90 119.91 65.29"
      ]
    },
    {
      "cell_type": "code",
      "metadata": {
        "id": "xQRv-eSDUqzZ"
      },
      "source": [
        "# Importing the necessary packages\n",
        "import pandas as pd\n",
        "import numpy as np\n",
        "import keras\n",
        "from sklearn.preprocessing import StandardScaler\n",
        "import tensorflow as tf"
      ],
      "execution_count": 20,
      "outputs": []
    },
    {
      "cell_type": "code",
      "metadata": {
        "colab": {
          "base_uri": "https://localhost:8080/",
          "height": 202
        },
        "id": "cKG2BgGraCZT",
        "outputId": "1c77a558-a731-4c1f-edf4-03bea72448a5"
      },
      "source": [
        "data1=pd.read_csv(\"/content/drive/MyDrive/Colab Notebooks/gas_turbines.csv\")\n",
        "data1.head()"
      ],
      "execution_count": 4,
      "outputs": [
        {
          "output_type": "execute_result",
          "data": {
            "text/html": [
              "<div>\n",
              "<style scoped>\n",
              "    .dataframe tbody tr th:only-of-type {\n",
              "        vertical-align: middle;\n",
              "    }\n",
              "\n",
              "    .dataframe tbody tr th {\n",
              "        vertical-align: top;\n",
              "    }\n",
              "\n",
              "    .dataframe thead th {\n",
              "        text-align: right;\n",
              "    }\n",
              "</style>\n",
              "<table border=\"1\" class=\"dataframe\">\n",
              "  <thead>\n",
              "    <tr style=\"text-align: right;\">\n",
              "      <th></th>\n",
              "      <th>AT</th>\n",
              "      <th>AP</th>\n",
              "      <th>AH</th>\n",
              "      <th>AFDP</th>\n",
              "      <th>GTEP</th>\n",
              "      <th>TIT</th>\n",
              "      <th>TAT</th>\n",
              "      <th>TEY</th>\n",
              "      <th>CDP</th>\n",
              "      <th>CO</th>\n",
              "      <th>NOX</th>\n",
              "    </tr>\n",
              "  </thead>\n",
              "  <tbody>\n",
              "    <tr>\n",
              "      <th>0</th>\n",
              "      <td>6.8594</td>\n",
              "      <td>1007.9</td>\n",
              "      <td>96.799</td>\n",
              "      <td>3.5000</td>\n",
              "      <td>19.663</td>\n",
              "      <td>1059.2</td>\n",
              "      <td>550.00</td>\n",
              "      <td>114.70</td>\n",
              "      <td>10.605</td>\n",
              "      <td>3.1547</td>\n",
              "      <td>82.722</td>\n",
              "    </tr>\n",
              "    <tr>\n",
              "      <th>1</th>\n",
              "      <td>6.7850</td>\n",
              "      <td>1008.4</td>\n",
              "      <td>97.118</td>\n",
              "      <td>3.4998</td>\n",
              "      <td>19.728</td>\n",
              "      <td>1059.3</td>\n",
              "      <td>550.00</td>\n",
              "      <td>114.72</td>\n",
              "      <td>10.598</td>\n",
              "      <td>3.2363</td>\n",
              "      <td>82.776</td>\n",
              "    </tr>\n",
              "    <tr>\n",
              "      <th>2</th>\n",
              "      <td>6.8977</td>\n",
              "      <td>1008.8</td>\n",
              "      <td>95.939</td>\n",
              "      <td>3.4824</td>\n",
              "      <td>19.779</td>\n",
              "      <td>1059.4</td>\n",
              "      <td>549.87</td>\n",
              "      <td>114.71</td>\n",
              "      <td>10.601</td>\n",
              "      <td>3.2012</td>\n",
              "      <td>82.468</td>\n",
              "    </tr>\n",
              "    <tr>\n",
              "      <th>3</th>\n",
              "      <td>7.0569</td>\n",
              "      <td>1009.2</td>\n",
              "      <td>95.249</td>\n",
              "      <td>3.4805</td>\n",
              "      <td>19.792</td>\n",
              "      <td>1059.6</td>\n",
              "      <td>549.99</td>\n",
              "      <td>114.72</td>\n",
              "      <td>10.606</td>\n",
              "      <td>3.1923</td>\n",
              "      <td>82.670</td>\n",
              "    </tr>\n",
              "    <tr>\n",
              "      <th>4</th>\n",
              "      <td>7.3978</td>\n",
              "      <td>1009.7</td>\n",
              "      <td>95.150</td>\n",
              "      <td>3.4976</td>\n",
              "      <td>19.765</td>\n",
              "      <td>1059.7</td>\n",
              "      <td>549.98</td>\n",
              "      <td>114.72</td>\n",
              "      <td>10.612</td>\n",
              "      <td>3.2484</td>\n",
              "      <td>82.311</td>\n",
              "    </tr>\n",
              "  </tbody>\n",
              "</table>\n",
              "</div>"
            ],
            "text/plain": [
              "       AT      AP      AH    AFDP  ...     TEY     CDP      CO     NOX\n",
              "0  6.8594  1007.9  96.799  3.5000  ...  114.70  10.605  3.1547  82.722\n",
              "1  6.7850  1008.4  97.118  3.4998  ...  114.72  10.598  3.2363  82.776\n",
              "2  6.8977  1008.8  95.939  3.4824  ...  114.71  10.601  3.2012  82.468\n",
              "3  7.0569  1009.2  95.249  3.4805  ...  114.72  10.606  3.1923  82.670\n",
              "4  7.3978  1009.7  95.150  3.4976  ...  114.72  10.612  3.2484  82.311\n",
              "\n",
              "[5 rows x 11 columns]"
            ]
          },
          "metadata": {
            "tags": []
          },
          "execution_count": 4
        }
      ]
    },
    {
      "cell_type": "code",
      "metadata": {
        "id": "36sv83kTaWId"
      },
      "source": [
        "# Create your first MLP in Keras\n",
        "from keras.models import Sequential\n",
        "from keras.layers import Dense\n",
        "import numpy\n"
      ],
      "execution_count": 5,
      "outputs": []
    },
    {
      "cell_type": "code",
      "metadata": {
        "id": "5uBKUCMIaez4"
      },
      "source": [
        "X=data1.iloc[:, 0:11]\n",
        "Y=data1.iloc[:,7]"
      ],
      "execution_count": 6,
      "outputs": []
    },
    {
      "cell_type": "code",
      "metadata": {
        "colab": {
          "base_uri": "https://localhost:8080/",
          "height": 414
        },
        "id": "jv_kd2RDp7Bu",
        "outputId": "84581ff7-9bcd-4c26-b7de-73cbe63d9cc6"
      },
      "source": [
        "X"
      ],
      "execution_count": 7,
      "outputs": [
        {
          "output_type": "execute_result",
          "data": {
            "text/html": [
              "<div>\n",
              "<style scoped>\n",
              "    .dataframe tbody tr th:only-of-type {\n",
              "        vertical-align: middle;\n",
              "    }\n",
              "\n",
              "    .dataframe tbody tr th {\n",
              "        vertical-align: top;\n",
              "    }\n",
              "\n",
              "    .dataframe thead th {\n",
              "        text-align: right;\n",
              "    }\n",
              "</style>\n",
              "<table border=\"1\" class=\"dataframe\">\n",
              "  <thead>\n",
              "    <tr style=\"text-align: right;\">\n",
              "      <th></th>\n",
              "      <th>AT</th>\n",
              "      <th>AP</th>\n",
              "      <th>AH</th>\n",
              "      <th>AFDP</th>\n",
              "      <th>GTEP</th>\n",
              "      <th>TIT</th>\n",
              "      <th>TAT</th>\n",
              "      <th>TEY</th>\n",
              "      <th>CDP</th>\n",
              "      <th>CO</th>\n",
              "      <th>NOX</th>\n",
              "    </tr>\n",
              "  </thead>\n",
              "  <tbody>\n",
              "    <tr>\n",
              "      <th>0</th>\n",
              "      <td>6.8594</td>\n",
              "      <td>1007.9</td>\n",
              "      <td>96.799</td>\n",
              "      <td>3.5000</td>\n",
              "      <td>19.663</td>\n",
              "      <td>1059.2</td>\n",
              "      <td>550.00</td>\n",
              "      <td>114.70</td>\n",
              "      <td>10.605</td>\n",
              "      <td>3.1547</td>\n",
              "      <td>82.722</td>\n",
              "    </tr>\n",
              "    <tr>\n",
              "      <th>1</th>\n",
              "      <td>6.7850</td>\n",
              "      <td>1008.4</td>\n",
              "      <td>97.118</td>\n",
              "      <td>3.4998</td>\n",
              "      <td>19.728</td>\n",
              "      <td>1059.3</td>\n",
              "      <td>550.00</td>\n",
              "      <td>114.72</td>\n",
              "      <td>10.598</td>\n",
              "      <td>3.2363</td>\n",
              "      <td>82.776</td>\n",
              "    </tr>\n",
              "    <tr>\n",
              "      <th>2</th>\n",
              "      <td>6.8977</td>\n",
              "      <td>1008.8</td>\n",
              "      <td>95.939</td>\n",
              "      <td>3.4824</td>\n",
              "      <td>19.779</td>\n",
              "      <td>1059.4</td>\n",
              "      <td>549.87</td>\n",
              "      <td>114.71</td>\n",
              "      <td>10.601</td>\n",
              "      <td>3.2012</td>\n",
              "      <td>82.468</td>\n",
              "    </tr>\n",
              "    <tr>\n",
              "      <th>3</th>\n",
              "      <td>7.0569</td>\n",
              "      <td>1009.2</td>\n",
              "      <td>95.249</td>\n",
              "      <td>3.4805</td>\n",
              "      <td>19.792</td>\n",
              "      <td>1059.6</td>\n",
              "      <td>549.99</td>\n",
              "      <td>114.72</td>\n",
              "      <td>10.606</td>\n",
              "      <td>3.1923</td>\n",
              "      <td>82.670</td>\n",
              "    </tr>\n",
              "    <tr>\n",
              "      <th>4</th>\n",
              "      <td>7.3978</td>\n",
              "      <td>1009.7</td>\n",
              "      <td>95.150</td>\n",
              "      <td>3.4976</td>\n",
              "      <td>19.765</td>\n",
              "      <td>1059.7</td>\n",
              "      <td>549.98</td>\n",
              "      <td>114.72</td>\n",
              "      <td>10.612</td>\n",
              "      <td>3.2484</td>\n",
              "      <td>82.311</td>\n",
              "    </tr>\n",
              "    <tr>\n",
              "      <th>...</th>\n",
              "      <td>...</td>\n",
              "      <td>...</td>\n",
              "      <td>...</td>\n",
              "      <td>...</td>\n",
              "      <td>...</td>\n",
              "      <td>...</td>\n",
              "      <td>...</td>\n",
              "      <td>...</td>\n",
              "      <td>...</td>\n",
              "      <td>...</td>\n",
              "      <td>...</td>\n",
              "    </tr>\n",
              "    <tr>\n",
              "      <th>15034</th>\n",
              "      <td>9.0301</td>\n",
              "      <td>1005.6</td>\n",
              "      <td>98.460</td>\n",
              "      <td>3.5421</td>\n",
              "      <td>19.164</td>\n",
              "      <td>1049.7</td>\n",
              "      <td>546.21</td>\n",
              "      <td>111.61</td>\n",
              "      <td>10.400</td>\n",
              "      <td>4.5186</td>\n",
              "      <td>79.559</td>\n",
              "    </tr>\n",
              "    <tr>\n",
              "      <th>15035</th>\n",
              "      <td>7.8879</td>\n",
              "      <td>1005.9</td>\n",
              "      <td>99.093</td>\n",
              "      <td>3.5059</td>\n",
              "      <td>19.414</td>\n",
              "      <td>1046.3</td>\n",
              "      <td>543.22</td>\n",
              "      <td>111.78</td>\n",
              "      <td>10.433</td>\n",
              "      <td>4.8470</td>\n",
              "      <td>79.917</td>\n",
              "    </tr>\n",
              "    <tr>\n",
              "      <th>15036</th>\n",
              "      <td>7.2647</td>\n",
              "      <td>1006.3</td>\n",
              "      <td>99.496</td>\n",
              "      <td>3.4770</td>\n",
              "      <td>19.530</td>\n",
              "      <td>1037.7</td>\n",
              "      <td>537.32</td>\n",
              "      <td>110.19</td>\n",
              "      <td>10.483</td>\n",
              "      <td>7.9632</td>\n",
              "      <td>90.912</td>\n",
              "    </tr>\n",
              "    <tr>\n",
              "      <th>15037</th>\n",
              "      <td>7.0060</td>\n",
              "      <td>1006.8</td>\n",
              "      <td>99.008</td>\n",
              "      <td>3.4486</td>\n",
              "      <td>19.377</td>\n",
              "      <td>1043.2</td>\n",
              "      <td>541.24</td>\n",
              "      <td>110.74</td>\n",
              "      <td>10.533</td>\n",
              "      <td>6.2494</td>\n",
              "      <td>93.227</td>\n",
              "    </tr>\n",
              "    <tr>\n",
              "      <th>15038</th>\n",
              "      <td>6.9279</td>\n",
              "      <td>1007.2</td>\n",
              "      <td>97.533</td>\n",
              "      <td>3.4275</td>\n",
              "      <td>19.306</td>\n",
              "      <td>1049.9</td>\n",
              "      <td>545.85</td>\n",
              "      <td>111.58</td>\n",
              "      <td>10.583</td>\n",
              "      <td>4.9816</td>\n",
              "      <td>92.498</td>\n",
              "    </tr>\n",
              "  </tbody>\n",
              "</table>\n",
              "<p>15039 rows × 11 columns</p>\n",
              "</div>"
            ],
            "text/plain": [
              "           AT      AP      AH    AFDP  ...     TEY     CDP      CO     NOX\n",
              "0      6.8594  1007.9  96.799  3.5000  ...  114.70  10.605  3.1547  82.722\n",
              "1      6.7850  1008.4  97.118  3.4998  ...  114.72  10.598  3.2363  82.776\n",
              "2      6.8977  1008.8  95.939  3.4824  ...  114.71  10.601  3.2012  82.468\n",
              "3      7.0569  1009.2  95.249  3.4805  ...  114.72  10.606  3.1923  82.670\n",
              "4      7.3978  1009.7  95.150  3.4976  ...  114.72  10.612  3.2484  82.311\n",
              "...       ...     ...     ...     ...  ...     ...     ...     ...     ...\n",
              "15034  9.0301  1005.6  98.460  3.5421  ...  111.61  10.400  4.5186  79.559\n",
              "15035  7.8879  1005.9  99.093  3.5059  ...  111.78  10.433  4.8470  79.917\n",
              "15036  7.2647  1006.3  99.496  3.4770  ...  110.19  10.483  7.9632  90.912\n",
              "15037  7.0060  1006.8  99.008  3.4486  ...  110.74  10.533  6.2494  93.227\n",
              "15038  6.9279  1007.2  97.533  3.4275  ...  111.58  10.583  4.9816  92.498\n",
              "\n",
              "[15039 rows x 11 columns]"
            ]
          },
          "metadata": {
            "tags": []
          },
          "execution_count": 7
        }
      ]
    },
    {
      "cell_type": "code",
      "metadata": {
        "colab": {
          "base_uri": "https://localhost:8080/"
        },
        "id": "92-W61rpp-wD",
        "outputId": "3f97b0e4-4b1e-481c-c95b-5e4f6f6a1a28"
      },
      "source": [
        "Y"
      ],
      "execution_count": 8,
      "outputs": [
        {
          "output_type": "execute_result",
          "data": {
            "text/plain": [
              "0        114.70\n",
              "1        114.72\n",
              "2        114.71\n",
              "3        114.72\n",
              "4        114.72\n",
              "          ...  \n",
              "15034    111.61\n",
              "15035    111.78\n",
              "15036    110.19\n",
              "15037    110.74\n",
              "15038    111.58\n",
              "Name: TEY, Length: 15039, dtype: float64"
            ]
          },
          "metadata": {
            "tags": []
          },
          "execution_count": 8
        }
      ]
    },
    {
      "cell_type": "code",
      "metadata": {
        "id": "bQGJbjAcqGhc"
      },
      "source": [
        "# create model\n",
        "model = Sequential()\n",
        "model.add(Dense(12, input_dim=11, kernel_initializer='uniform', activation='relu'))\n",
        "model.add(Dense(8, kernel_initializer='uniform', activation='relu'))\n",
        "model.add(Dense(1, kernel_initializer='uniform', activation='sigmoid'))"
      ],
      "execution_count": 10,
      "outputs": []
    },
    {
      "cell_type": "code",
      "metadata": {
        "id": "dYQKzG-rqSAl"
      },
      "source": [
        "# Compile model\n",
        "model.compile(loss='binary_crossentropy', optimizer='adam', metrics=['accuracy'])"
      ],
      "execution_count": 11,
      "outputs": []
    },
    {
      "cell_type": "code",
      "metadata": {
        "colab": {
          "base_uri": "https://localhost:8080/"
        },
        "id": "1ufR_nB5qZ8o",
        "outputId": "593ca2f5-86ef-4946-e31a-6308e85d39a6"
      },
      "source": [
        "# Fit the model\n",
        "history=model.fit(X, Y, validation_split=0.33, epochs=20, batch_size=10)"
      ],
      "execution_count": 22,
      "outputs": [
        {
          "output_type": "stream",
          "text": [
            "Epoch 1/20\n",
            "1008/1008 [==============================] - 2s 2ms/step - loss: -42374402048.0000 - accuracy: 0.0000e+00 - val_loss: -43819266048.0000 - val_accuracy: 0.0000e+00\n",
            "Epoch 2/20\n",
            "1008/1008 [==============================] - 2s 2ms/step - loss: -47921045504.0000 - accuracy: 0.0000e+00 - val_loss: -49425747968.0000 - val_accuracy: 0.0000e+00\n",
            "Epoch 3/20\n",
            "1008/1008 [==============================] - 2s 2ms/step - loss: -53911564288.0000 - accuracy: 0.0000e+00 - val_loss: -55469117440.0000 - val_accuracy: 0.0000e+00\n",
            "Epoch 4/20\n",
            "1008/1008 [==============================] - 2s 2ms/step - loss: -60361506816.0000 - accuracy: 0.0000e+00 - val_loss: -61968564224.0000 - val_accuracy: 0.0000e+00\n",
            "Epoch 5/20\n",
            "1008/1008 [==============================] - 2s 2ms/step - loss: -67286818816.0000 - accuracy: 0.0000e+00 - val_loss: -68936261632.0000 - val_accuracy: 0.0000e+00\n",
            "Epoch 6/20\n",
            "1008/1008 [==============================] - 2s 2ms/step - loss: -74702503936.0000 - accuracy: 0.0000e+00 - val_loss: -76391268352.0000 - val_accuracy: 0.0000e+00\n",
            "Epoch 7/20\n",
            "1008/1008 [==============================] - 2s 2ms/step - loss: -82625921024.0000 - accuracy: 0.0000e+00 - val_loss: -84345102336.0000 - val_accuracy: 0.0000e+00\n",
            "Epoch 8/20\n",
            "1008/1008 [==============================] - 2s 2ms/step - loss: -91076009984.0000 - accuracy: 0.0000e+00 - val_loss: -92820160512.0000 - val_accuracy: 0.0000e+00\n",
            "Epoch 9/20\n",
            "1008/1008 [==============================] - 2s 2ms/step - loss: -100065476608.0000 - accuracy: 0.0000e+00 - val_loss: -101825142784.0000 - val_accuracy: 0.0000e+00\n",
            "Epoch 10/20\n",
            "1008/1008 [==============================] - 2s 2ms/step - loss: -109607370752.0000 - accuracy: 0.0000e+00 - val_loss: -111375261696.0000 - val_accuracy: 0.0000e+00\n",
            "Epoch 11/20\n",
            "1008/1008 [==============================] - 2s 2ms/step - loss: -119716937728.0000 - accuracy: 0.0000e+00 - val_loss: -121484648448.0000 - val_accuracy: 0.0000e+00\n",
            "Epoch 12/20\n",
            "1008/1008 [==============================] - 2s 2ms/step - loss: -130411986944.0000 - accuracy: 0.0000e+00 - val_loss: -132168671232.0000 - val_accuracy: 0.0000e+00\n",
            "Epoch 13/20\n",
            "1008/1008 [==============================] - 2s 2ms/step - loss: -141704609792.0000 - accuracy: 0.0000e+00 - val_loss: -143443329024.0000 - val_accuracy: 0.0000e+00\n",
            "Epoch 14/20\n",
            "1008/1008 [==============================] - 2s 2ms/step - loss: -153613369344.0000 - accuracy: 0.0000e+00 - val_loss: -155325628416.0000 - val_accuracy: 0.0000e+00\n",
            "Epoch 15/20\n",
            "1008/1008 [==============================] - 2s 2ms/step - loss: -166158057472.0000 - accuracy: 0.0000e+00 - val_loss: -167835041792.0000 - val_accuracy: 0.0000e+00\n",
            "Epoch 16/20\n",
            "1008/1008 [==============================] - 2s 2ms/step - loss: -179352862720.0000 - accuracy: 0.0000e+00 - val_loss: -180981547008.0000 - val_accuracy: 0.0000e+00\n",
            "Epoch 17/20\n",
            "1008/1008 [==============================] - 2s 2ms/step - loss: -193208270848.0000 - accuracy: 0.0000e+00 - val_loss: -194776252416.0000 - val_accuracy: 0.0000e+00\n",
            "Epoch 18/20\n",
            "1008/1008 [==============================] - 2s 2ms/step - loss: -207737880576.0000 - accuracy: 0.0000e+00 - val_loss: -209232412672.0000 - val_accuracy: 0.0000e+00\n",
            "Epoch 19/20\n",
            "1008/1008 [==============================] - 2s 2ms/step - loss: -222963793920.0000 - accuracy: 0.0000e+00 - val_loss: -224378847232.0000 - val_accuracy: 0.0000e+00\n",
            "Epoch 20/20\n",
            "1008/1008 [==============================] - 2s 2ms/step - loss: -238900035584.0000 - accuracy: 0.0000e+00 - val_loss: -240219734016.0000 - val_accuracy: 0.0000e+00\n"
          ],
          "name": "stdout"
        }
      ]
    },
    {
      "cell_type": "code",
      "metadata": {
        "colab": {
          "base_uri": "https://localhost:8080/"
        },
        "id": "ZAaLP9Csso-l",
        "outputId": "f7104b99-571b-4857-d9bd-0132cdf3215c"
      },
      "source": [
        "# evaluate the model\n",
        "scores = model.evaluate(X, Y)\n",
        "print(\"%s: %.2f%%\" % (model.metrics_names[1], scores[1]*100))"
      ],
      "execution_count": 23,
      "outputs": [
        {
          "output_type": "stream",
          "text": [
            "470/470 [==============================] - 0s 946us/step - loss: -244842053632.0000 - accuracy: 0.0000e+00\n",
            "accuracy: 0.00%\n"
          ],
          "name": "stdout"
        }
      ]
    },
    {
      "cell_type": "code",
      "metadata": {
        "colab": {
          "base_uri": "https://localhost:8080/"
        },
        "id": "nrsinsYds6mK",
        "outputId": "1c2fdb90-ac47-48c4-ba09-bd27f02f3ba7"
      },
      "source": [
        "# Visualize training history\n",
        "\n",
        "# list all data in history\n",
        "model.history.history.keys()\n"
      ],
      "execution_count": 24,
      "outputs": [
        {
          "output_type": "execute_result",
          "data": {
            "text/plain": [
              "dict_keys([])"
            ]
          },
          "metadata": {
            "tags": []
          },
          "execution_count": 24
        }
      ]
    },
    {
      "cell_type": "code",
      "metadata": {
        "id": "2O-lsxmSticC"
      },
      "source": [
        "import matplotlib.pyplot as plt\n"
      ],
      "execution_count": 15,
      "outputs": []
    },
    {
      "cell_type": "code",
      "metadata": {
        "colab": {
          "base_uri": "https://localhost:8080/",
          "height": 573
        },
        "id": "IgdXNiqhtCDH",
        "outputId": "cdc1412c-7f0b-471c-fd02-ac69e36149a5"
      },
      "source": [
        "# summarize history for accuracy\n",
        "plt.plot(history.history['accuracy'])\n",
        "plt.plot(history.history['val_accuracy'])\n",
        "plt.title('model accuracy')\n",
        "plt.ylabel('accuracy')\n",
        "plt.xlabel('epoch')\n",
        "plt.legend(['train', 'test'], loc='upper left')\n",
        "plt.show()\n",
        "# summarize history for loss\n",
        "plt.plot(history.history['loss'])\n",
        "plt.plot(history.history['val_loss'])\n",
        "plt.title('model loss')\n",
        "plt.ylabel('loss')\n",
        "plt.xlabel('epoch')\n",
        "plt.legend(['train', 'test'], loc='upper left')\n",
        "plt.show()\n"
      ],
      "execution_count": 25,
      "outputs": [
        {
          "output_type": "display_data",
          "data": {
            "image/png": "[encoded data removed]",
            "text/plain": [
              "<Figure size 432x288 with 1 Axes>"
            ]
          },
          "metadata": {
            "tags": [],
            "needs_background": "light"
          }
        },
        {
          "output_type": "display_data",
          "data": {
            "image/png": "[encoded data removed]",
            "text/plain": [
              "<Figure size 432x288 with 1 Axes>"
            ]
          },
          "metadata": {
            "tags": [],
            "needs_background": "light"
          }
        }
      ]
    }
  ]
}